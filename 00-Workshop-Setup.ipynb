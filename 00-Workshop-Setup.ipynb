{
 "cells": [
  {
   "cell_type": "markdown",
   "metadata": {},
   "source": [
    "# Introduction to R for Scientific Computing - March 24, 2016\n",
    "## Setup for the Workshop\n",
    "1. **Connect to the Jupyter portal**: `https://guillimin2.hpc.mcgill.ca:8443`\n",
    "  * CN: guillimin2.hpc.mcgill.ca\n",
    "  * O: McGill HPC Centre\n",
    "  * Valid: 2015-10-21 to 2016-10-20\n",
    "  * SHA-256 fingerprint: `88:77:72:F0:5B:D1:A5:12:71:9B:07:1D:C4:22:FA:98:FC:7F:FF:F0:D1:B1:3E:6D:C2:25:0D:4A:4E:49:62:57`\n",
    "1. **On the right, click \"New\" > \"Terminal\"**\n",
    "1. **Type**: `cp -R /software/workshop/intro-R/* ./`\n",
    "1. **Go back to the Jupyter home page and select the first file**: `00-Workshop-Setup.ipynb`"
   ]
  },
  {
   "cell_type": "markdown",
   "metadata": {},
   "source": [
    "## About the Jupyter Notebook\n",
    "* The material is made of Jupyter (IPython) notebooks with which you can follow the class examples and exercise.\n",
    "  * You can modify each box and play with the code. Here is a reminder of useful keyboard shortcuts:\n",
    "\n",
    "|Shortcut        |Action                         |\n",
    "|----------------|-------------------------------|\n",
    "|**Shift + Enter**     |execute code                   |\n",
    "|Mouse or Enter  |enter box (enter edit mode)    |\n",
    "|Esc             |escape box (enter command mode)|\n",
    "\n",
    "|In edit mode:   |                               |\n",
    "|----------------|-------------------------------|\n",
    "|Tab             | complete command              |\n",
    "\n",
    "|In command mode:|                               |\n",
    "|----------------|-------------------------------|\n",
    "|b               | insert cell below             |\n",
    "|a               | insert cell above             |\n",
    "|s               | save                          |\n",
    "|x/c/v           | cut/copy/paste                |"
   ]
  },
  {
   "cell_type": "markdown",
   "metadata": {},
   "source": [
    "## About this Workshop\n",
    "It is based on the following material:\n",
    "* Our previous workshop: http://www.hpc.mcgill.ca/index.php/training#intro_r\n",
    "* Data Carpentry - R for data analysis for Ecology: http://www.datacarpentry.org/R-ecology/\n",
    "* Dataset and examples: http://nbviewer.jupyter.org/github/ofermend/IPython-notebooks/blob/master/blog-part-3.ipynb"
   ]
  },
  {
   "cell_type": "markdown",
   "metadata": {},
   "source": [
    "## Workshop Outline\n",
    "* Workshop setup\n",
    "* R syntax and basic data types\n",
    "* Reading, manipulating and plotting data\n",
    "* Programming and parallel programming in R\n",
    "* Probability, distributions and pseudorandom numbers\n",
    "* Linear regressions and predictions"
   ]
  },
  {
   "cell_type": "markdown",
   "metadata": {
    "collapsed": true
   },
   "source": [
    "## Introduction to R\n",
    "* **Open the next Notebook file**: `01-Introduction_to_R`"
   ]
  },
  {
   "cell_type": "code",
   "execution_count": null,
   "metadata": {
    "collapsed": true
   },
   "outputs": [],
   "source": []
  }
 ],
 "metadata": {
  "kernelspec": {
   "display_name": "Python 3",
   "language": "python",
   "name": "python3"
  },
  "language_info": {
   "codemirror_mode": {
    "name": "ipython",
    "version": 3
   },
   "file_extension": ".py",
   "mimetype": "text/x-python",
   "name": "python",
   "nbconvert_exporter": "python",
   "pygments_lexer": "ipython3",
   "version": "3.5.0"
  }
 },
 "nbformat": 4,
 "nbformat_minor": 0
}
